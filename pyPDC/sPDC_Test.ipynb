{
 "cells": [
  {
   "cell_type": "code",
   "execution_count": 1,
   "metadata": {},
   "outputs": [],
   "source": [
    "# from sPDC import MyPDC\n",
    "import sys\n",
    "import os\n",
    "pdcpath = os.path.abspath('../../PDC')\n",
    "sys.path.append(pdcpath)\n",
    "from sPDC  import MyPDC"
   ]
  },
  {
   "cell_type": "code",
   "execution_count": 3,
   "metadata": {},
   "outputs": [
    {
     "name": "stdout",
     "output_type": "stream",
     "text": [
      "c:\\Users\\dassc\\Google Drive\\0.Clarkson\\Shuvangkar\\Projects\\PMU Attack Testbed\\Sources\\Attack_modeling_project\\synphasors\n"
     ]
    }
   ],
   "source": [
    "synpath = os.path.abspath('../synphasors')\n",
    "print(synpath)"
   ]
  },
  {
   "cell_type": "code",
   "execution_count": 2,
   "metadata": {},
   "outputs": [],
   "source": [
    "pmuInfo = {\"id\": 7, \"ip\" :\"127.0.0.1\",\"port\": 4712}\n",
    "pdc1 = MyPDC(pmuInfo)"
   ]
  },
  {
   "cell_type": "code",
   "execution_count": 3,
   "metadata": {},
   "outputs": [
    {
     "name": "stdout",
     "output_type": "stream",
     "text": [
      "2022-05-15 22:23:44,443 INFO [7] - PDC successfully connected to PMU (127.0.0.1:4712)\n",
      "###[ IEEE C37.118.2 COMMON FRAME ]### \n",
      "  synByte   = 0xaa\n",
      "  reserved  = 0\n",
      "  type      = CFG2\n",
      "  version   = Version 1\n",
      "  framesize = 454\n",
      "  idcode    = 7\n",
      "  soc       = 1652667824\n",
      "  fracsec   = 718055\n",
      "###[ IEEE C37.118.2 CFG2 ]### \n",
      "     TIME_BASE = 1000000\n",
      "     num_pmu   = 1\n",
      "     \\pmu       \\\n",
      "      |###[ PMU Configuration ]### \n",
      "      |  stn       = 'Station A       '\n",
      "      |  idcode    = 7734\n",
      "      |  unused    = 0\n",
      "      |  freq      = 16-bit integer\n",
      "      |  analog    = 32-bit IEEE floating point\n",
      "      |  phasor_dtype= 16-bit integer\n",
      "      |  phasor_format= rectangular\n",
      "      |  phnmr     = 4\n",
      "      |  annmr     = 3\n",
      "      |  dgnmr     = 1\n",
      "      |  phname    = ['VA              ', 'VB              ', 'VC              ', 'I1              ']\n",
      "      |  anname    = ['ANALOG1         ', 'ANALOG2         ', 'ANALOG3         ']\n",
      "      |  \\dgname    \\\n",
      "      |   |###[ digital status name ]### \n",
      "      |   |  dname1    = 'BREAKER 1 STATUS'\n",
      "      |   |  dname2    = 'BREAKER 2 STATUS'\n",
      "      |   |  dname3    = 'BREAKER 3 STATUS'\n",
      "      |   |  dname4    = 'BREAKER 4 STATUS'\n",
      "      |   |  dname5    = 'BREAKER 5 STATUS'\n",
      "      |   |  dname6    = 'BREAKER 6 STATUS'\n",
      "      |   |  dname7    = 'BREAKER 7 STATUS'\n",
      "      |   |  dname8    = 'BREAKER 8 STATUS'\n",
      "      |   |  dname9    = 'BREAKER 9 STATUS'\n",
      "      |   |  dname10   = 'BREAKER A STATUS'\n",
      "      |   |  dname11   = 'BREAKER B STATUS'\n",
      "      |   |  dname12   = 'BREAKER C STATUS'\n",
      "      |   |  dname13   = 'BREAKER D STATUS'\n",
      "      |   |  dname14   = 'BREAKER E STATUS'\n",
      "      |   |  dname15   = 'BREAKER F STATUS'\n",
      "      |   |  dname16   = 'BREAKER G STATUS'\n",
      "      |  \\phunit    \\\n",
      "      |   |###[ ('Phasor Conversion Factor',) ]### \n",
      "      |   |  flag      = voltage\n",
      "      |   |  phfactor  = 915527\n",
      "      |   |###[ ('Phasor Conversion Factor',) ]### \n",
      "      |   |  flag      = voltage\n",
      "      |   |  phfactor  = 915527\n",
      "      |   |###[ ('Phasor Conversion Factor',) ]### \n",
      "      |   |  flag      = voltage\n",
      "      |   |  phfactor  = 915527\n",
      "      |   |###[ ('Phasor Conversion Factor',) ]### \n",
      "      |   |  flag      = current\n",
      "      |   |  phfactor  = 45776\n",
      "      |  \\anunit    \\\n",
      "      |   |###[ ('Analog Conversion Factor',) ]### \n",
      "      |   |  flag      = single point on wave\n",
      "      |   |  anfactor  = 1\n",
      "      |   |###[ ('Analog Conversion Factor',) ]### \n",
      "      |   |  flag      = rms of analog\n",
      "      |   |  anfactor  = 1\n",
      "      |   |###[ ('Analog Conversion Factor',) ]### \n",
      "      |   |  flag      = peak of analog\n",
      "      |   |  anfactor  = 1\n",
      "      |  \\dgunit    \\\n",
      "      |   |###[ Digital Status Words ]### \n",
      "      |   |  normal_status= 0x0\n",
      "      |   |  valid_input= 0xffff\n",
      "      |  reserved  = 0\n",
      "      |  fnom      = 60Hz\n",
      "      |  CFGCNT    = 1\n",
      "     data_rate = 1\n",
      "     chk       = 0x84a8\n",
      "\n"
     ]
    }
   ],
   "source": [
    "pdc1.connect()"
   ]
  },
  {
   "cell_type": "code",
   "execution_count": 4,
   "metadata": {},
   "outputs": [
    {
     "name": "stdout",
     "output_type": "stream",
     "text": [
      "2022-05-15 22:23:49,285 INFO [7] - Requesting to start sending from PMU (127.0.0.1:4712)\n",
      "<---------------Synphasor Data--------------->\n",
      "ID Code: 7, soc: 1652667829, fracsec: 286461 \n",
      "[(14635+0j), (58218+52860j), (58218+12675j), (1092+0j)]\n",
      "<---------------Synphasor Data--------------->\n",
      "ID Code: 7, soc: 1652667830, fracsec: 300962 \n",
      "[(14635+0j), (58218+52860j), (58218+12675j), (1092+0j)]\n",
      "<---------------Synphasor Data--------------->\n",
      "ID Code: 7, soc: 1652667831, fracsec: 305051 \n",
      "[(14635+0j), (58218+52860j), (58218+12675j), (1092+0j)]\n",
      "<---------------Synphasor Data--------------->\n",
      "ID Code: 7, soc: 1652667832, fracsec: 318118 \n",
      "[(14635+0j), (58218+52860j), (58218+12675j), (1092+0j)]\n",
      "<---------------Synphasor Data--------------->\n",
      "ID Code: 7, soc: 1652667833, fracsec: 333216 \n",
      "[(14635+0j), (58218+52860j), (58218+12675j), (1092+0j)]\n",
      "<---------------Synphasor Data--------------->\n",
      "ID Code: 7, soc: 1652667834, fracsec: 334734 \n",
      "[(14635+0j), (58218+52860j), (58218+12675j), (1092+0j)]\n",
      "<---------------Synphasor Data--------------->\n",
      "ID Code: 7, soc: 1652667835, fracsec: 349257 \n",
      "[(14635+0j), (58218+52860j), (58218+12675j), (1092+0j)]\n",
      "<---------------Synphasor Data--------------->\n",
      "ID Code: 7, soc: 1652667836, fracsec: 349846 \n",
      "[(14635+0j), (58218+52860j), (58218+12675j), (1092+0j)]\n",
      "<---------------Synphasor Data--------------->\n",
      "ID Code: 7, soc: 1652667837, fracsec: 350883 \n",
      "[(14635+0j), (58218+52860j), (58218+12675j), (1092+0j)]\n",
      "<---------------Synphasor Data--------------->\n",
      "ID Code: 7, soc: 1652667838, fracsec: 351354 \n",
      "[(14635+0j), (58218+52860j), (58218+12675j), (1092+0j)]\n",
      "<---------------Synphasor Data--------------->\n",
      "ID Code: 7, soc: 1652667839, fracsec: 364927 \n",
      "[(14635+0j), (58218+52860j), (58218+12675j), (1092+0j)]\n",
      "<---------------Synphasor Data--------------->\n",
      "ID Code: 7, soc: 1652667840, fracsec: 368264 \n",
      "[(14635+0j), (58218+52860j), (58218+12675j), (1092+0j)]\n",
      "<---------------Synphasor Data--------------->\n",
      "ID Code: 7, soc: 1652667841, fracsec: 373887 \n",
      "[(14635+0j), (58218+52860j), (58218+12675j), (1092+0j)]\n",
      "<---------------Synphasor Data--------------->\n",
      "ID Code: 7, soc: 1652667842, fracsec: 388184 \n",
      "[(14635+0j), (58218+52860j), (58218+12675j), (1092+0j)]\n",
      "<---------------Synphasor Data--------------->\n",
      "ID Code: 7, soc: 1652667843, fracsec: 388783 \n",
      "[(14635+0j), (58218+52860j), (58218+12675j), (1092+0j)]\n",
      "<---------------Synphasor Data--------------->\n",
      "ID Code: 7, soc: 1652667844, fracsec: 401229 \n",
      "[(14635+0j), (58218+52860j), (58218+12675j), (1092+0j)]\n",
      "<---------------Synphasor Data--------------->\n",
      "ID Code: 7, soc: 1652667845, fracsec: 414686 \n",
      "[(14635+0j), (58218+52860j), (58218+12675j), (1092+0j)]\n",
      "<---------------Synphasor Data--------------->\n",
      "ID Code: 7, soc: 1652667846, fracsec: 416151 \n",
      "[(14635+0j), (58218+52860j), (58218+12675j), (1092+0j)]\n",
      "<---------------Synphasor Data--------------->\n",
      "ID Code: 7, soc: 1652667847, fracsec: 421300 \n",
      "[(14635+0j), (58218+52860j), (58218+12675j), (1092+0j)]\n",
      "<---------------Synphasor Data--------------->\n",
      "ID Code: 7, soc: 1652667848, fracsec: 434443 \n",
      "[(14635+0j), (58218+52860j), (58218+12675j), (1092+0j)]\n"
     ]
    }
   ],
   "source": [
    "pdc1.get_data()\n",
    "MyPDC.start_pdc()"
   ]
  },
  {
   "cell_type": "code",
   "execution_count": 1,
   "metadata": {},
   "outputs": [
    {
     "name": "stdout",
     "output_type": "stream",
     "text": [
      "c:\\Users\\dassc\\Google Drive\\0.Clarkson\\Shuvangkar\\Projects\\PMU Attack Testbed\\Sources\\Attack_modeling_project\\PDC\n",
      "c:\\opal-rt\\rt-lab\\2019.3.2\\common\\python\n",
      "c:\\opal-rt\\rt-lab\\2019.3.2\\common\\bin\n",
      "c:\\Users\\dassc\\Google Drive\\0.Clarkson\\Shuvangkar\\Projects\\PMU Attack Testbed\\Sources\\Attack_modeling_project\\PDC\n",
      "C:\\Program Files\\WindowsApps\\PythonSoftwareFoundation.Python.3.9_3.9.3312.0_x64__qbz5n2kfra8p0\\python39.zip\n",
      "C:\\Program Files\\WindowsApps\\PythonSoftwareFoundation.Python.3.9_3.9.3312.0_x64__qbz5n2kfra8p0\\DLLs\n",
      "C:\\Program Files\\WindowsApps\\PythonSoftwareFoundation.Python.3.9_3.9.3312.0_x64__qbz5n2kfra8p0\\lib\n",
      "C:\\Users\\dassc\\AppData\\Local\\Microsoft\\WindowsApps\\PythonSoftwareFoundation.Python.3.9_qbz5n2kfra8p0\n",
      "\n",
      "C:\\Users\\dassc\\AppData\\Local\\Packages\\PythonSoftwareFoundation.Python.3.9_qbz5n2kfra8p0\\LocalCache\\local-packages\\Python39\\site-packages\n",
      "C:\\Users\\dassc\\AppData\\Local\\Packages\\PythonSoftwareFoundation.Python.3.9_qbz5n2kfra8p0\\LocalCache\\local-packages\\Python39\\site-packages\\win32\n",
      "C:\\Users\\dassc\\AppData\\Local\\Packages\\PythonSoftwareFoundation.Python.3.9_qbz5n2kfra8p0\\LocalCache\\local-packages\\Python39\\site-packages\\win32\\lib\n",
      "C:\\Users\\dassc\\AppData\\Local\\Packages\\PythonSoftwareFoundation.Python.3.9_qbz5n2kfra8p0\\LocalCache\\local-packages\\Python39\\site-packages\\Pythonwin\n",
      "C:\\Program Files\\WindowsApps\\PythonSoftwareFoundation.Python.3.9_3.9.3312.0_x64__qbz5n2kfra8p0\n",
      "C:\\Program Files\\WindowsApps\\PythonSoftwareFoundation.Python.3.9_3.9.3312.0_x64__qbz5n2kfra8p0\\lib\\site-packages\n"
     ]
    }
   ],
   "source": [
    "import sys\n",
    "\n",
    "for path in sys.path:\n",
    "    print(path)"
   ]
  }
 ],
 "metadata": {
  "interpreter": {
   "hash": "b445aa1e2700934822d913efc6aab528cafbc1cc21eea64f8d76c3d8ae393e15"
  },
  "kernelspec": {
   "display_name": "Python 3.9.12 64-bit (windows store)",
   "language": "python",
   "name": "python3"
  },
  "language_info": {
   "codemirror_mode": {
    "name": "ipython",
    "version": 3
   },
   "file_extension": ".py",
   "mimetype": "text/x-python",
   "name": "python",
   "nbconvert_exporter": "python",
   "pygments_lexer": "ipython3",
   "version": "3.9.12"
  },
  "orig_nbformat": 4
 },
 "nbformat": 4,
 "nbformat_minor": 2
}
