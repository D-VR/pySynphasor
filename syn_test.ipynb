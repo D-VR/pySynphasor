{
 "cells": [
  {
   "cell_type": "code",
   "execution_count": 1,
   "metadata": {},
   "outputs": [],
   "source": [
    "from scapy.all import *\n",
    "from synphasors import *"
   ]
  },
  {
   "cell_type": "code",
   "execution_count": 2,
   "metadata": {},
   "outputs": [
    {
     "name": "stdout",
     "output_type": "stream",
     "text": [
      "###[ IEEE C37.118.2 COMMON FRAME ]### \n",
      "  synByte   = 0xaa\n",
      "  reserved  = 0\n",
      "  type      = DATA\n",
      "  version   = Version 2\n",
      "  framesize = 14\n",
      "  idcode    = 0\n",
      "  soc       = 0\n",
      "  fracsec   = 0\n",
      "\n"
     ]
    },
    {
     "data": {
      "text/plain": [
       "b'\\xaa\\x02\\x00\\x0e\\x00\\x00\\x00\\x00\\x00\\x00\\x00\\x00\\x00\\x00'"
      ]
     },
     "execution_count": 2,
     "metadata": {},
     "output_type": "execute_result"
    }
   ],
   "source": [
    "s1 = synphasor()\n",
    "s1.show2()\n",
    "raw(s1)"
   ]
  },
  {
   "cell_type": "code",
   "execution_count": 3,
   "metadata": {},
   "outputs": [
    {
     "name": "stdout",
     "output_type": "stream",
     "text": [
      "b'\\xaaB\\x00\\x12\\x00\\n\\x00\\x00\\x00\\x00\\x00\\x00\\x00\\x00\\x00\\x05\\xb6\\xb3'\n"
     ]
    }
   ],
   "source": [
    "pkt1 = synphasor(type=4,idcode=10)/synphasor_cmd(cmd=5)\n",
    "# pkt1.show2()\n",
    "print(raw(pkt1))\n",
    "# pkts = synphasor(raw(pkt1))"
   ]
  },
  {
   "cell_type": "code",
   "execution_count": 4,
   "metadata": {},
   "outputs": [
    {
     "ename": "NameError",
     "evalue": "name 'pkts' is not defined",
     "output_type": "error",
     "traceback": [
      "\u001b[1;31m---------------------------------------------------------------------------\u001b[0m",
      "\u001b[1;31mNameError\u001b[0m                                 Traceback (most recent call last)",
      "\u001b[1;32mc:\\Users\\dassc\\Google Drive\\20 Research\\21 Shuvangkar\\21.03 PMU Attack Testbed\\200 Sources\\Attack_Testbed\\synphasors\\syn_test.ipynb Cell 4'\u001b[0m in \u001b[0;36m<module>\u001b[1;34m\u001b[0m\n\u001b[1;32m----> <a href='vscode-notebook-cell:/c%3A/Users/dassc/Google%20Drive/20%20Research/21%20Shuvangkar/21.03%20PMU%20Attack%20Testbed/200%20Sources/Attack_Testbed/synphasors/syn_test.ipynb#ch0000003?line=0'>1</a>\u001b[0m \u001b[39mprint\u001b[39m(pkts[\u001b[39m'\u001b[39m\u001b[39msynphasor_cmd\u001b[39m\u001b[39m'\u001b[39m]\u001b[39m.\u001b[39mchk)\n\u001b[0;32m      <a href='vscode-notebook-cell:/c%3A/Users/dassc/Google%20Drive/20%20Research/21%20Shuvangkar/21.03%20PMU%20Attack%20Testbed/200%20Sources/Attack_Testbed/synphasors/syn_test.ipynb#ch0000003?line=1'>2</a>\u001b[0m \u001b[39mdel\u001b[39;00m pkts[\u001b[39m'\u001b[39m\u001b[39msynphasor_cmd\u001b[39m\u001b[39m'\u001b[39m]\u001b[39m.\u001b[39mchk\n\u001b[0;32m      <a href='vscode-notebook-cell:/c%3A/Users/dassc/Google%20Drive/20%20Research/21%20Shuvangkar/21.03%20PMU%20Attack%20Testbed/200%20Sources/Attack_Testbed/synphasors/syn_test.ipynb#ch0000003?line=2'>3</a>\u001b[0m pkts2 \u001b[39m=\u001b[39m synphasor(pkts\u001b[39m.\u001b[39mbuild())\n",
      "\u001b[1;31mNameError\u001b[0m: name 'pkts' is not defined"
     ]
    }
   ],
   "source": [
    "print(pkts['synphasor_cmd'].chk)\n",
    "del pkts['synphasor_cmd'].chk\n",
    "pkts2 = synphasor(pkts.build())\n",
    "# pkts2.show2()"
   ]
  },
  {
   "cell_type": "code",
   "execution_count": null,
   "metadata": {},
   "outputs": [
    {
     "name": "stdout",
     "output_type": "stream",
     "text": [
      "###[ IEEE C37.118.2 COMMON FRAME ]### \n",
      "  synByte   = 0xaa\n",
      "  reserved  = 0\n",
      "  type      = CMD\n",
      "  version   = Version 2\n",
      "  framesize = 18\n",
      "  idcode    = 0\n",
      "  soc       = 0\n",
      "  fracsec   = 0\n",
      "###[ synphasor command ]### \n",
      "     cmd       = 5\n",
      "     chk       = 0xb48e\n",
      "\n"
     ]
    }
   ],
   "source": [
    "pkt2 = synphasor(b'\\xaaB\\x00\\x12\\x00\\x00\\x00\\x00\\x00\\x00\\x00\\x00\\x00\\x00\\x00\\x05\\xb4\\x8e')\n",
    "pkt2.show()"
   ]
  },
  {
   "cell_type": "code",
   "execution_count": null,
   "metadata": {},
   "outputs": [
    {
     "name": "stdout",
     "output_type": "stream",
     "text": [
      "Packet Raw Output\n"
     ]
    },
    {
     "data": {
      "text/plain": [
       "b'\\x00\\x00\\x00\\x00\\x00\\x01STATION 1       \\x00\\x00\\x00\\x00\\x00\\x02\\x00\\x02\\x00\\x01Va\\x00\\x00\\x00\\x00\\x00\\x00\\x00\\x00\\x00\\x00\\x00\\x00\\x00\\x00Vb\\x00\\x00\\x00\\x00\\x00\\x00\\x00\\x00\\x00\\x00\\x00\\x00\\x00\\x00an0\\x00\\x00\\x00\\x00\\x00\\x00\\x00\\x00\\x00\\x00\\x00\\x00\\x00an1\\x00\\x00\\x00\\x00\\x00\\x00\\x00\\x00\\x00\\x00\\x00\\x00\\x00BREAKER X STATUSBREAKER Y STATUSBREAKER 3 STATUSBREAKER 4 STATUSBREAKER 5 STATUSBREAKER 6 STATUSBREAKER 7 STATUSBREAKER 8 STATUSBREAKER 9 STATUSBREAKER A STATUSBREAKER B STATUSBREAKER C STATUSBREAKER D STATUSBREAKER E STATUSBREAKER F STATUSBREAKER G STATUS\\x00\\x00\\x00\\n\\x01\\x00\\x00\\x14\\x00\\x00\\x00\\x01\\x00\\x00\\x00\\x01\\x00\\x00\\x00\\x00\\x00\\x00\\x00\\x00\\x00\\x00\\x00\\x00\\x00\\x1e\\x00\\x00'"
      ]
     },
     "execution_count": 6,
     "metadata": {},
     "output_type": "execute_result"
    }
   ],
   "source": [
    "pktcfg = synphasor_cfg2(\n",
    "    pmu = [PMU_CFG(\n",
    "        phname=[\"Va\",\"Vb\"],\n",
    "        anname=[\"an0\",\"an1\"],\n",
    "        dgname=[DGNAME(dname1 = \"BREAKER X STATUS\",dname2=\"BREAKER Y STATUS\")],\n",
    "        phunit=[PHUNIT(flag=0,phfactor=10),PHUNIT(flag=1,phfactor=20)],\n",
    "        anunit=[ANUNIT(),ANUNIT()],\n",
    "        dgunit=[DIGUNIT(),DIGUNIT()])]\n",
    " )\n",
    "\n",
    "# pktcfg.show()\n",
    "print(\"Packet Raw Output\")\n",
    "raw(pktcfg)\n",
    "# raw(s3)\n",
    "# len(s3)"
   ]
  },
  {
   "cell_type": "code",
   "execution_count": null,
   "metadata": {},
   "outputs": [
    {
     "name": "stdout",
     "output_type": "stream",
     "text": [
      "None\n",
      "None\n"
     ]
    }
   ],
   "source": [
    "print(pktcfg.num_pmu)\n",
    "pktcfg.pmu\n",
    "print(pktcfg.pmu[0].phnmr)    "
   ]
  },
  {
   "cell_type": "code",
   "execution_count": null,
   "metadata": {},
   "outputs": [
    {
     "name": "stdout",
     "output_type": "stream",
     "text": [
      "Calculated CRC:  33207\n",
      "###[ IEEE C37.118.2 COMMON FRAME ]### \n",
      "  synByte   = 0xaa\n",
      "  reserved  = 0\n",
      "  type      = CFG2\n",
      "  version   = Version 2\n",
      "  framesize = 398\n",
      "  idcode    = 0\n",
      "  soc       = 0\n",
      "  fracsec   = 0\n",
      "###[ IEEE C37.118.2 CFG2 ]### \n",
      "     TIME_BASE = 0\n",
      "     num_pmu   = 1\n",
      "     \\pmu       \\\n",
      "      |###[ PMU Configuration ]### \n",
      "      |  stn       = 'STATION 1       '\n",
      "      |  idcode    = 0\n",
      "      |  unused    = 0\n",
      "      |  freq      = 16-bit integer\n",
      "      |  analog    = 16-bit integer\n",
      "      |  phasor_dtype= 16-bit integer\n",
      "      |  phasor_format= rectangular\n",
      "      |  phnmr     = 2\n",
      "      |  annmr     = 2\n",
      "      |  dgnmr     = 1\n",
      "      |  phname    = ['Va', 'Vb']\n",
      "      |  anname    = ['an0', 'an1']\n",
      "      |  \\dgname    \\\n",
      "      |   |###[ digital status name ]### \n",
      "      |   |  dname1    = 'BREAKER X STATUS'\n",
      "      |   |  dname2    = 'BREAKER Y STATUS'\n",
      "      |   |  dname3    = 'BREAKER 3 STATUS'\n",
      "      |   |  dname4    = 'BREAKER 4 STATUS'\n",
      "      |   |  dname5    = 'BREAKER 5 STATUS'\n",
      "      |   |  dname6    = 'BREAKER 6 STATUS'\n",
      "      |   |  dname7    = 'BREAKER 7 STATUS'\n",
      "      |   |  dname8    = 'BREAKER 8 STATUS'\n",
      "      |   |  dname9    = 'BREAKER 9 STATUS'\n",
      "      |   |  dname10   = 'BREAKER A STATUS'\n",
      "      |   |  dname11   = 'BREAKER B STATUS'\n",
      "      |   |  dname12   = 'BREAKER C STATUS'\n",
      "      |   |  dname13   = 'BREAKER D STATUS'\n",
      "      |   |  dname14   = 'BREAKER E STATUS'\n",
      "      |   |  dname15   = 'BREAKER F STATUS'\n",
      "      |   |  dname16   = 'BREAKER G STATUS'\n",
      "      |  \\phunit    \\\n",
      "      |   |###[ ('Phasor Conversion Factor',) ]### \n",
      "      |   |  flag      = voltage\n",
      "      |   |  phfactor  = 10\n",
      "      |   |###[ ('Phasor Conversion Factor',) ]### \n",
      "      |   |  flag      = current\n",
      "      |   |  phfactor  = 20\n",
      "      |  \\anunit    \\\n",
      "      |   |###[ ('Analog Conversion Factor',) ]### \n",
      "      |   |  flag      = single point on wave\n",
      "      |   |  anfactor  = 1\n",
      "      |   |###[ ('Analog Conversion Factor',) ]### \n",
      "      |   |  flag      = single point on wave\n",
      "      |   |  anfactor  = 1\n",
      "      |  \\dgunit    \\\n",
      "      |   |###[ Digital Status Words ]### \n",
      "      |   |  normal_status= 0x0\n",
      "      |   |  valid_input= 0x0\n",
      "      |  reserved  = 0\n",
      "      |  fnom      = 60Hz\n",
      "      |  CFGCNT    = 0\n",
      "     data_rate = 0\n",
      "     chk       = 0x0\n",
      "###[ Raw ]### \n",
      "        load      = '\\x00\\x1e\\\\x81\\\\xb7'\n",
      "\n"
     ]
    }
   ],
   "source": [
    "pkt4 = synphasor(type=3,)/pktcfg\n",
    "pkt4.show2()"
   ]
  },
  {
   "cell_type": "code",
   "execution_count": null,
   "metadata": {},
   "outputs": [
    {
     "name": "stdout",
     "output_type": "stream",
     "text": [
      "###[ IEEE C37.118.2 Data ]### \n",
      "  \\pmu_data  \\\n",
      "   |###[ PMU Data ]### \n",
      "   |  data_error= Good measurement\n",
      "   |  pmu_sync  = sync with UTC\n",
      "   |  data_storing= by time stamp\n",
      "   |  pmu_trigger= trigger detected\n",
      "   |  cfg_change= change effected\n",
      "   |  data_modified= otherwise\n",
      "   |  pmu_time_quality= Not used\n",
      "   |  unlocked_time= Sync locked or unlocked < 10s\n",
      "   |  trigger_reason= Magnitude low\n",
      "   |  phasors   = [(1+2j), (3+4j)]\n",
      "   |  freq      = 0\n",
      "   |  dfreq     = 0\n",
      "   |  analogs   = []\n",
      "   |  digitals  = []\n",
      "   |###[ PMU Data ]### \n",
      "   |  data_error= Good measurement\n",
      "   |  pmu_sync  = sync with UTC\n",
      "   |  data_storing= by time stamp\n",
      "   |  pmu_trigger= trigger detected\n",
      "   |  cfg_change= change effected\n",
      "   |  data_modified= otherwise\n",
      "   |  pmu_time_quality= Not used\n",
      "   |  unlocked_time= Sync locked or unlocked < 10s\n",
      "   |  trigger_reason= Magnitude low\n",
      "   |  phasors   = []\n",
      "   |  freq      = 0\n",
      "   |  dfreq     = 0\n",
      "   |  analogs   = []\n",
      "   |  digitals  = []\n",
      "  chk       = None\n",
      "\n",
      "b'\\x08\\x01\\x00\\x01\\x00\\x02\\x00\\x03\\x00\\x04\\x00\\x00\\x00\\x00\\x08\\x01\\x00\\x00\\x00\\x00\\x00\\x00'\n",
      "pmu_data   : PacketListField                     = [<PMU_DATA  phasors=[(1+2j), (3+4j)] |>, <PMU_DATA  |>] ('[]')\n",
      "chk        : XShortField                         = None            ('None')\n"
     ]
    }
   ],
   "source": [
    "pkt5 = synphasor_data(pmu_data = [PMU_DATA(\n",
    "    phasors=[(1+2j),(3+4j)]),PMU_DATA()]\n",
    "    )\n",
    "# pkt2 = synphasor_data(pmu_data = [PMU_DATA(\n",
    "#     phasors=[(1+2j),(3+4j)]\n",
    "# ))\n",
    "pkt5.show()\n",
    "print(raw(pkt5))\n",
    "ls(pkt5)"
   ]
  },
  {
   "cell_type": "code",
   "execution_count": null,
   "metadata": {},
   "outputs": [
    {
     "name": "stdout",
     "output_type": "stream",
     "text": [
      "Calculated CRC:  74\n",
      "###[ IEEE C37.118.2 COMMON FRAME ]### \n",
      "  synByte   = 0xaa\n",
      "  reserved  = 0\n",
      "  type      = DATA\n",
      "  version   = Version 2\n",
      "  framesize = 30\n",
      "  idcode    = 0\n",
      "  soc       = 0\n",
      "  fracsec   = 0\n",
      "###[ IEEE C37.118.2 Data ]### \n",
      "     \\pmu_data  \\\n",
      "      |###[ Raw ]### \n",
      "      |  load      = '\\x08\\x01\\x00\\x05\\x00\\x06\\x00\\x07\\x00\\x08\\x00\\x00\\x00\\x00\\x00J'\n",
      "     chk       = None\n",
      "\n"
     ]
    }
   ],
   "source": [
    "pkt5.pmu_data = PMU_DATA(phasors=[(5+6j),(7+8j)])\n",
    "pkt6 = synphasor(type=0)/pkt5\n",
    "pkt6.show2()"
   ]
  },
  {
   "cell_type": "code",
   "execution_count": null,
   "metadata": {},
   "outputs": [
    {
     "name": "stdout",
     "output_type": "stream",
     "text": [
      "###[ IEEE C37.118.2 Data ]### \n",
      "  \\pmu_data  \\\n",
      "   |###[ PMU Data ]### \n",
      "   |  data_error= Good measurement\n",
      "   |  pmu_sync  = sync with UTC\n",
      "   |  data_storing= by time stamp\n",
      "   |  pmu_trigger= trigger detected\n",
      "   |  cfg_change= change effected\n",
      "   |  data_modified= otherwise\n",
      "   |  pmu_time_quality= Not used\n",
      "   |  unlocked_time= Sync locked or unlocked < 10s\n",
      "   |  trigger_reason= Magnitude low\n",
      "   |  phasors   = [(1+2j), (3+4j)]\n",
      "   |  freq      = 0\n",
      "   |  dfreq     = 0\n",
      "   |  analogs   = []\n",
      "   |  digitals  = []\n",
      "  chk       = None\n",
      "\n"
     ]
    }
   ],
   "source": [
    "pkt3 = synphasor_data(b'\\x08\\x01\\x00\\x01\\x00\\x02\\x00\\x03\\x00\\x04')\n",
    "pkt3.show()"
   ]
  },
  {
   "cell_type": "code",
   "execution_count": null,
   "metadata": {},
   "outputs": [
    {
     "name": "stdout",
     "output_type": "stream",
     "text": [
      "Calculated CRC:  2769\n",
      "###[ IEEE C37.118.2 COMMON FRAME ]### \n",
      "  synByte   = 0xaa\n",
      "  reserved  = 0\n",
      "  type      = HEADER\n",
      "  version   = Version 2\n",
      "  framesize = 34\n",
      "  idcode    = 0\n",
      "  soc       = 0\n",
      "  fracsec   = 0\n",
      "###[ IEEE C37.118.2 Header ]### \n",
      "     data      = 'hello world scapy!'\n",
      "     chk       = 0xad1\n",
      "\n",
      "Calculated CRC:  2769\n",
      "b'\\xaa\\x12\\x00\"\\x00\\x00\\x00\\x00\\x00\\x00\\x00\\x00\\x00\\x00hello world scapy!\\n\\xd1'\n"
     ]
    }
   ],
   "source": [
    "pkt5 = synphasor(type=1,)/synphasor_header(data=\"hello world scapy!\")\n",
    "pkt5.show2()\n",
    "print(raw(pkt5))"
   ]
  },
  {
   "cell_type": "code",
   "execution_count": null,
   "metadata": {},
   "outputs": [
    {
     "name": "stdout",
     "output_type": "stream",
     "text": [
      "###[ IEEE C37.118.2 COMMON FRAME ]### \n",
      "  synByte   = 0xaa\n",
      "  reserved  = 0\n",
      "  type      = HEADER\n",
      "  version   = Version 2\n",
      "  framesize = 34\n",
      "  idcode    = 0\n",
      "  soc       = 0\n",
      "  fracsec   = 0\n",
      "###[ IEEE C37.118.2 Header ]### \n",
      "     data      = 'hello world scapy!'\n",
      "     chk       = 0xad1\n",
      "\n"
     ]
    }
   ],
   "source": [
    "pkt6 = synphasor(b'\\xaa\\x12\\x00\"\\x00\\x00\\x00\\x00\\x00\\x00\\x00\\x00\\x00\\x00hello world scapy!\\n\\xd1')\n",
    "pkt6.show()"
   ]
  },
  {
   "cell_type": "markdown",
   "metadata": {},
   "source": [
    "# Craft a synphasor data"
   ]
  },
  {
   "cell_type": "code",
   "execution_count": null,
   "metadata": {},
   "outputs": [
    {
     "name": "stdout",
     "output_type": "stream",
     "text": [
      "###[ IEEE C37.118.2 Data ]### \n",
      "  \\pmu_data  \\\n",
      "   |###[ PMU Data ]### \n",
      "   |  data_error= Good measurement\n",
      "   |  pmu_sync  = sync with UTC\n",
      "   |  data_storing= by time stamp\n",
      "   |  pmu_trigger= trigger detected\n",
      "   |  cfg_change= change effected\n",
      "   |  data_modified= otherwise\n",
      "   |  pmu_time_quality= Not used\n",
      "   |  unlocked_time= Sync locked or unlocked < 10s\n",
      "   |  trigger_reason= Magnitude low\n",
      "   |  phasors   = [(1+2j), (3+4j), (5+6j), (7+8j)]\n",
      "   |  freq      = 2500\n",
      "   |  dfreq     = 0\n",
      "   |  analogs   = [10, 20, 30]\n",
      "   |  digitals  = [0x3c12]\n",
      "  chk       = 0x1213\n",
      "\n"
     ]
    }
   ],
   "source": [
    "# syndata = synphasor_data(pmu_data = [PMU_DATA(phasors=[(1+2j),(3+4j),(6+7j),(10+30j)]),analogs = [40,50,60], digitals = [0x3c12]])\n",
    "syndata = synphasor_data(pmu_data=\n",
    "        [PMU_DATA(\n",
    "        phasors=[(1+2j),(3+4j),(5+6j),(7+8j)],\n",
    "        freq = 2500,\n",
    "        dfreq = 0,\n",
    "        analogs = [10,20,30],\n",
    "        digitals  = [0x3c12])\n",
    "        ],chk = 0x1213)\n",
    "\n",
    "syndata.show()"
   ]
  },
  {
   "cell_type": "code",
   "execution_count": 8,
   "metadata": {},
   "outputs": [
    {
     "name": "stdout",
     "output_type": "stream",
     "text": [
      "Data packet in machine representation\n"
     ]
    },
    {
     "data": {
      "text/plain": [
       "b'\\xaa\\x02\\x004\\x00\\n\\x00\\x00\\x00\\x00\\x00\\x00\\x00\\x00\\x08\\x01\\x00\\x01\\x00\\x02\\x00\\x03\\x00\\x04\\x00\\x05\\x00\\x06\\x00\\x07\\x00\\x08\\t\\xc4\\x00\\x00A \\x00\\x00A\\xa0\\x00\\x00A\\xf0\\x00\\x00<\\x12\\xebh'"
      ]
     },
     "execution_count": 8,
     "metadata": {},
     "output_type": "execute_result"
    }
   ],
   "source": [
    "cframe = synphasor(type=0, idcode = 10)\n",
    "dframe = synphasor_data()\n",
    "dframe.pmu_data = PMU_DATA(\n",
    "    phasors=[(1+2j),(3+4j),(5+6j),(7+8j)],\n",
    "    freq = 2500,\n",
    "    dfreq = 0,\n",
    "    analogs = [10,20,30],\n",
    "    digitals  = [0x3c12])\n",
    "synpkt = cframe/dframe\n",
    "print(\"Data packet in machine representation:\")\n",
    "raw(synpkt)"
   ]
  },
  {
   "cell_type": "code",
   "execution_count": null,
   "metadata": {},
   "outputs": [
    {
     "name": "stdout",
     "output_type": "stream",
     "text": [
      "[(2866, 2166), (2845, 2708), (2645, 2849), (2003, 2210)]\n",
      "[(2866+2166j), (2845+2708j), (2645+2849j), (2003+2210j)]\n",
      "[300.2241169175838, 442.2742488138015, 634.6605697254248]\n"
     ]
    }
   ],
   "source": [
    "\n",
    "phasor_N = 4 # Number of PMU\n",
    "analog_N = 3 \n",
    "digital_N = 1\n",
    "\n",
    "def getPhasors(N):\n",
    "    px = list()\n",
    "    py = list()\n",
    "    phasorTuple = list()\n",
    "    phasorList = list()\n",
    "    for i in range(N):\n",
    "        px.append(random.randint(2000, 3000))\n",
    "        py.append(random.randint(2000, 3000))\n",
    "        phasorTuple.append((px[i],py[i]))\n",
    "        phasorList.append(complex(px[i],py[i]))\n",
    "    return (phasorTuple,phasorList)\n",
    "\n",
    "def getAnalogs(N):\n",
    "    analog = list()\n",
    "    for i in range(N):\n",
    "        analog.append(random.uniform(100.0,1000.0))\n",
    "    \n",
    "    return analog\n",
    "\n",
    "phasors = getPhasors(phasor_N)\n",
    "analogs = getAnalogs(analog_N)\n",
    "print(phasors[0])\n",
    "print(phasors[1])\n",
    "\n",
    "print(analogs)\n",
    "\n",
    "# print(\"ID Code: %d, soc: %d, fracsec: %d \" %(pkt[\"synphasor\"].idcode,pkt[\"synphasor\"].soc,pkt[\"synphasor\"].fracsec))\n",
    "\n",
    "# print(phasorList)\n",
    "# phasorTuple"
   ]
  }
 ],
 "metadata": {
  "interpreter": {
   "hash": "b445aa1e2700934822d913efc6aab528cafbc1cc21eea64f8d76c3d8ae393e15"
  },
  "kernelspec": {
   "display_name": "Python 3.9.12 64-bit (windows store)",
   "language": "python",
   "name": "python3"
  },
  "language_info": {
   "codemirror_mode": {
    "name": "ipython",
    "version": 3
   },
   "file_extension": ".py",
   "mimetype": "text/x-python",
   "name": "python",
   "nbconvert_exporter": "python",
   "pygments_lexer": "ipython3",
   "version": "3.9.13"
  },
  "orig_nbformat": 4
 },
 "nbformat": 4,
 "nbformat_minor": 2
}
